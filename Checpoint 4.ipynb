{
 "cells": [
  {
   "cell_type": "code",
   "execution_count": 51,
   "id": "59921422",
   "metadata": {
    "scrolled": true
   },
   "outputs": [
    {
     "name": "stdout",
     "output_type": "stream",
     "text": [
      "12\n"
     ]
    }
   ],
   "source": [
    "def max_of_three(x,y,z):\n",
    "    if x > y and x > z:\n",
    "        return (x)\n",
    "    elif y > x and y > z:\n",
    "        return(y)\n",
    "    else:\n",
    "        return(z)\n",
    "print(max_of_three(6,12,11))"
   ]
  },
  {
   "cell_type": "code",
   "execution_count": 1,
   "id": "38a42f11",
   "metadata": {},
   "outputs": [
    {
     "name": "stdout",
     "output_type": "stream",
     "text": [
      "50 30\n"
     ]
    }
   ],
   "source": [
    "def calculation(a,b):\n",
    "    x =a+b\n",
    "    y =a-b\n",
    "    print(x,y)\n",
    "    \n",
    "calculation(40,10)"
   ]
  },
  {
   "cell_type": "code",
   "execution_count": 39,
   "id": "67e73140",
   "metadata": {
    "scrolled": true
   },
   "outputs": [
    {
     "name": "stdout",
     "output_type": "stream",
     "text": [
      "sum all of the elements of the list :  138\n",
      "multiply all of the elements of the list :  456300\n",
      "103\n",
      "234\n"
     ]
    }
   ],
   "source": [
    "# Write a function that sums the elements of a list of integers.\n",
    "list1=[25,26,78,9]\n",
    "def sums(list1):\n",
    "    total = 0\n",
    "    for x in range(0, len(list1)):\n",
    "        total = list1[x] + total\n",
    "print(\"sum all of the elements of the list : \", total)\n",
    "\n",
    "#Write a function that multiplies the elements of an integer list.\n",
    "list2=[25,26,78,9]\n",
    "def multiply(list2):\n",
    "    total2 = 1\n",
    "    for x in range(0, len(list2)):\n",
    "            total2 = list2[x] * total2\n",
    "print(\"multiply all of the elements of the list : \", total2)\n",
    "\n",
    "#Use the two functions to sum the elements whose position is an even number (0,2,4…) and multiply the rest.\n",
    "def sums(liste):\n",
    "    total = 0\n",
    "    for x in (liste):\n",
    "        total = total + x\n",
    "    return total\n",
    "\n",
    "def multiply(liste):\n",
    "    total2 = 1\n",
    "    for x in (liste):\n",
    "        total2 = total2 * x\n",
    "    return total2\n",
    "\n",
    "list3=[25,26,78,9]\n",
    "lst=[]\n",
    "lst1=[]\n",
    "\n",
    "for x in range(len(list3)):\n",
    "    if x %2 == 0:\n",
    "        lst.append(list3[x])\n",
    "    else:\n",
    "        lst1.append(list3[x])\n",
    "print(sums(lst))\n",
    "print(multiply(lst1))"
   ]
  },
  {
   "cell_type": "code",
   "execution_count": 3,
   "id": "cee1f2a8",
   "metadata": {},
   "outputs": [
    {
     "name": "stdout",
     "output_type": "stream",
     "text": [
      "green-red-yellow-black-white\n",
      "black-green-red-white-yellow\n"
     ]
    }
   ],
   "source": [
    "items=[n for n in input().split('-')]\n",
    "items.sort()\n",
    "print('-'.join(items))"
   ]
  }
 ],
 "metadata": {
  "kernelspec": {
   "display_name": "Python 3",
   "language": "python",
   "name": "python3"
  },
  "language_info": {
   "codemirror_mode": {
    "name": "ipython",
    "version": 3
   },
   "file_extension": ".py",
   "mimetype": "text/x-python",
   "name": "python",
   "nbconvert_exporter": "python",
   "pygments_lexer": "ipython3",
   "version": "3.8.8"
  }
 },
 "nbformat": 4,
 "nbformat_minor": 5
}
